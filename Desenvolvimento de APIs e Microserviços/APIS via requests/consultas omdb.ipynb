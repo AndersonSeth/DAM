{
 "cells": [
  {
   "cell_type": "code",
   "execution_count": 1,
   "metadata": {},
   "outputs": [],
   "source": [
    "import requests \n",
    "from pprint import pprint"
   ]
  },
  {
   "cell_type": "code",
   "execution_count": 2,
   "metadata": {},
   "outputs": [],
   "source": [
    "api_key = 'dfd8650a'"
   ]
  },
  {
   "cell_type": "code",
   "execution_count": 27,
   "metadata": {},
   "outputs": [
    {
     "data": {
      "text/plain": [
       "{'Title': 'Star Wars: Knights of the Old Republic',\n",
       " 'Year': '2003',\n",
       " 'Rated': 'T',\n",
       " 'Released': '18 Jul 2003',\n",
       " 'Runtime': 'N/A',\n",
       " 'Genre': 'Action, Adventure, Fantasy, Romance, Sci-Fi',\n",
       " 'Director': 'Casey Hudson',\n",
       " 'Writer': 'David Gaider, Michael Gallo (manual), Drew Karpyshyn (manual), Drew Karpyshyn (senior writer), Lukas Kristjanson (manual), James Ohlen (manual), Brett Rector (manual editor), Lynn Taylor (lead technical writer), Peter Thomas',\n",
       " 'Actors': 'Jennifer Hale, Raphael Sbarge, Rafael Ferrer, John Cygan',\n",
       " 'Plot': 'A republic soldier, training to become a Jedi Knight, is given the task of halting the conquest of Darth Malak by discovering the location of a weapon known as the Star Forge.',\n",
       " 'Language': 'English',\n",
       " 'Country': 'USA, Canada',\n",
       " 'Awards': '4 wins & 3 nominations.',\n",
       " 'Poster': 'https://m.media-amazon.com/images/M/MV5BN2YwNjdkNGUtYTc1Zi00YjIyLWJiMDgtNTI0YTE2ZjNjYzk1XkEyXkFqcGdeQXVyNzcyMjAwNTE@._V1_SX300.jpg',\n",
       " 'Ratings': [{'Source': 'Internet Movie Database', 'Value': '9.5/10'}],\n",
       " 'Metascore': 'N/A',\n",
       " 'imdbRating': '9.5',\n",
       " 'imdbVotes': '7,759',\n",
       " 'imdbID': 'tt0356070',\n",
       " 'Type': 'game',\n",
       " 'DVD': 'N/A',\n",
       " 'BoxOffice': 'N/A',\n",
       " 'Production': 'N/A',\n",
       " 'Website': 'N/A',\n",
       " 'Response': 'True'}"
      ]
     },
     "execution_count": 27,
     "metadata": {},
     "output_type": "execute_result"
    }
   ],
   "source": [
    "def busca_por_id(film_id):\n",
    "    url = f\"http://www.omdbapi.com/?apikey={api_key}&i={film_id}\"\n",
    "    pedido = requests.get(url)\n",
    "    dicionario_do_pedido = pedido.json()\n",
    "    return dicionario_do_pedido\n",
    "busca_por_id(\"tt0356070\")"
   ]
  },
  {
   "cell_type": "code",
   "execution_count": null,
   "metadata": {},
   "outputs": [],
   "source": [
    "def busca_por_texto(texto_buscar):\n",
    "    url = f\"http://www.omdbapi.com/?apikey={api_key}&s={texto_buscar}\"\n",
    "    pedido = requests.get(url) #conectar na URL\n",
    "    dicionario_do_pedido = pedido.json() #transformo a string que eu recebi num dicionário de python\n",
    "    return dicionario_do_pedido\n",
    "busca_por_texto(\"star wars\")"
   ]
  },
  {
   "cell_type": "code",
   "execution_count": 48,
   "metadata": {},
   "outputs": [
    {
     "data": {
      "text/plain": [
       "'867'"
      ]
     },
     "execution_count": 48,
     "metadata": {},
     "output_type": "execute_result"
    }
   ],
   "source": [
    "'''\n",
    "Agora, faça uma função busca_qtd_total que retorna quantos\n",
    "itens (pode ser filme, jogo, série ou o que for) batem com\n",
    "uma determinada busca.\n",
    "'''\n",
    "def busca_qtd_total(texto_buscar):\n",
    "    url = f\"http://www.omdbapi.com/?apikey={api_key}&s={texto_buscar}\"\n",
    "    pedido = requests.get(url) #conectar na URL\n",
    "    dicionario_do_pedido = pedido.json() #transformo a string que eu recebi num dicionário de python\n",
    "    return dicionario_do_pedido['totalResults']\n",
    "texto_usuario = input(\"Digite o item que deseja obter o total\") \n",
    "busca_qtd_total(texto_usuario)\n"
   ]
  },
  {
   "cell_type": "code",
   "execution_count": 49,
   "metadata": {},
   "outputs": [
    {
     "data": {
      "text/plain": [
       "'611'"
      ]
     },
     "execution_count": 49,
     "metadata": {},
     "output_type": "execute_result"
    }
   ],
   "source": [
    "'''\n",
    "Faça uma função busca_qtd_filmes que retorna quantos\n",
    "filmes batem com uma determinada busca.\n",
    "'''\n",
    "def busca_qtd_filmes(texto_buscar):\n",
    "    url = f\"http://www.omdbapi.com/?type=movie&apikey={api_key}&s={texto_buscar}\"\n",
    "    pedido = requests.get(url) #conectar na URL\n",
    "    dicionario_do_pedido = pedido.json() #transformo a string que eu recebi num dicionário de python\n",
    "    return dicionario_do_pedido['totalResults']\n",
    "texto_usuario = input(\"Digite o item que deseja obter o total\") \n",
    "busca_qtd_filmes(texto_usuario)"
   ]
  },
  {
   "cell_type": "code",
   "execution_count": 34,
   "metadata": {},
   "outputs": [
    {
     "data": {
      "text/plain": [
       "'Star Wars: Episode IV - A New Hope'"
      ]
     },
     "execution_count": 34,
     "metadata": {},
     "output_type": "execute_result"
    }
   ],
   "source": [
    "'''\n",
    "Faça uma função nome_do_filme_por_id que recebe a id de\n",
    "um filme e retorna o seu nome.\n",
    "'''\n",
    "def nome_do_filme_por_id(id_filme):\n",
    "    url = f\"http://www.omdbapi.com/?apikey={api_key}&i={id_filme}\"\n",
    "    pedido = requests.get(url) #conectar na URL\n",
    "    dicionario_do_pedido = pedido.json() #transformo a string que eu recebi num dicionário de python\n",
    "    return dicionario_do_pedido['Title']\n",
    "texto_usuario = input(\"Digite o id\") \n",
    "nome_do_filme_por_id(texto_usuario)"
   ]
  },
  {
   "cell_type": "code",
   "execution_count": 35,
   "metadata": {},
   "outputs": [
    {
     "data": {
      "text/plain": [
       "'1977'"
      ]
     },
     "execution_count": 35,
     "metadata": {},
     "output_type": "execute_result"
    }
   ],
   "source": [
    "'''\n",
    "Faça uma função ano_do_filme_por_id que recebe a id de\n",
    "um filme e retorna o seu ano de lançamento.\n",
    "'''\n",
    "def ano_do_filme_por_id(id_filme):\n",
    "    url = f\"http://www.omdbapi.com/?apikey={api_key}&i={id_filme}\"\n",
    "    pedido = requests.get(url) #conectar na URL\n",
    "    dicionario_do_pedido = pedido.json() #transformo a string que eu recebi num dicionário de python\n",
    "    return dicionario_do_pedido['Year']\n",
    "texto_usuario = input(\"Digite o id\") \n",
    "ano_do_filme_por_id(texto_usuario)"
   ]
  },
  {
   "cell_type": "code",
   "execution_count": null,
   "metadata": {},
   "outputs": [],
   "source": [
    "'''\n",
    "Peguemos vários dados de um filme de uma vez.\n",
    "\n",
    "A ideia é receber uma id e retornar \n",
    "um dicionário com diversos dados do filme.\n",
    "\n",
    "O dicionário deve ter as seguintes chaves:\n",
    " * ano\n",
    " * nome\n",
    " * diretor\n",
    " * genero\n",
    "\n",
    "E os dados devem ser preenchidos baseado nos dados do site.\n",
    "'''\n",
    "def dicionario_do_filme_por_id(id_filme):\n",
    "    url = f\"http://www.omdbapi.com/?apikey={api_key}&i={id_filme}\"\n",
    "    pedido = requests.get(url) #conectar na URL\n",
    "    dicionario_en = pedido.json() #transformo a string que eu recebi num dicionário de python\n",
    "    dicionario_pt = {}\n",
    "    dicionario_pt['ano'] = dicionario_en['Year']\n",
    "    dicionario_pt['nome'] = dicionario_en['Title']\n",
    "    dicionario_pt['diretor'] = dicionario_en['Director']\n",
    "    dicionario_pt['genero'] = dicionario_en['Genre']\n",
    "    return dicionario_pt\n",
    "texto_usuario = input(\"Digite o id\") \n",
    "dicionario_do_filme_por_id(texto_usuario)"
   ]
  },
  {
   "cell_type": "code",
   "execution_count": null,
   "metadata": {},
   "outputs": [],
   "source": [
    "#Codigo foi copiado diversas vezes com a função obter por id, simplificando a função anterior\n",
    "\n",
    "def dicionario_do_filme_por_id(id_filme):\n",
    "    dicionario_en = busca_por_id(id_filme)\n",
    "    dicionario_pt = {}\n",
    "    dicionario_pt['ano'] = dicionario_en['Year']\n",
    "    dicionario_pt['nome'] = dicionario_en['Title']\n",
    "    dicionario_pt['diretor'] = dicionario_en['Director']\n",
    "    dicionario_pt['genero'] = dicionario_en['Genre']\n",
    "    return dicionario_pt\n",
    "texto_usuario = input(\"Digite o id\") \n",
    "dicionario_do_filme_por_id(texto_usuario)\n",
    "\n"
   ]
  },
  {
   "cell_type": "code",
   "execution_count": 47,
   "metadata": {},
   "outputs": [
    {
     "data": {
      "text/plain": [
       "[{'nome': 'Star Wars: Episode IV - A New Hope', 'ano': '1977'},\n",
       " {'nome': 'Star Wars: Episode V - The Empire Strikes Back', 'ano': '1980'},\n",
       " {'nome': 'Star Wars: Episode VI - Return of the Jedi', 'ano': '1983'},\n",
       " {'nome': 'Star Wars: Episode VII - The Force Awakens', 'ano': '2015'},\n",
       " {'nome': 'Star Wars: Episode I - The Phantom Menace', 'ano': '1999'},\n",
       " {'nome': 'Star Wars: Episode III - Revenge of the Sith', 'ano': '2005'},\n",
       " {'nome': 'Star Wars: Episode II - Attack of the Clones', 'ano': '2002'},\n",
       " {'nome': 'Rogue One: A Star Wars Story', 'ano': '2016'},\n",
       " {'nome': 'Star Wars: Episode VIII - The Last Jedi', 'ano': '2017'},\n",
       " {'nome': 'Star Wars: Episode IX - The Rise of Skywalker', 'ano': '2019'}]"
      ]
     },
     "execution_count": 47,
     "metadata": {},
     "output_type": "execute_result"
    }
   ],
   "source": [
    "'''\n",
    "Voltando para a busca...\n",
    "\n",
    "Faça uma função busca_filmes que, dada uma busca, retorna\n",
    "os dez primeiros items (filmes, series, jogos ou o que for)\n",
    "que batem com a busca.\n",
    "\n",
    "A sua resposta deve ser uma lista, cada filme representado por \n",
    "um dicionário. cada dicionario deve conter os campos\n",
    "'nome' (valor Title da resposta) e 'ano' (valor Year da resposta).\n",
    "'''\n",
    "def busca_filmes(texto_buscar):\n",
    "    dic_busca = busca_por_texto(texto_buscar)\n",
    "    lista_de_filmes = dic_busca['Search']\n",
    "    lista_resposta = []\n",
    "    for filme in lista_de_filmes:\n",
    "        dic = {}\n",
    "        dic ['nome'] = filme ['Title']\n",
    "        dic['ano'] = filme ['Year']\n",
    "        #guardar dicionario dic na lista?\n",
    "        lista_resposta.append(dic)\n",
    "    \n",
    "    return lista_resposta\n",
    "busca_filmes('star wars')"
   ]
  },
  {
   "cell_type": "code",
   "execution_count": null,
   "metadata": {},
   "outputs": [],
   "source": [
    "'''\n",
    "Faça uma função busca_filmes_grande que, dada uma busca, retorna\n",
    "os VINTE primeiros filmes que batem com a busca.\n",
    "'''\n",
    "def busca_filmes_grande(texto_buscar):\n",
    "    pass #implemente!"
   ]
  }
 ],
 "metadata": {
  "kernelspec": {
   "display_name": "Python 3",
   "language": "python",
   "name": "python3"
  },
  "language_info": {
   "codemirror_mode": {
    "name": "ipython",
    "version": 3
   },
   "file_extension": ".py",
   "mimetype": "text/x-python",
   "name": "python",
   "nbconvert_exporter": "python",
   "pygments_lexer": "ipython3",
   "version": "3.11.5"
  }
 },
 "nbformat": 4,
 "nbformat_minor": 2
}
